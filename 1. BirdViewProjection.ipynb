{
 "cells": [
  {
   "cell_type": "code",
   "execution_count": 1,
   "metadata": {},
   "outputs": [],
   "source": [
    "import numpy as np\n",
    "import laspy\n",
    "from TronGisPy import GisIO, CRS, Normalizer, Interpolation\n",
    "import CSF \n",
    "import os, sys, gc, subprocess # file system package\n",
    "import pickle, json, shutil, itertools # file processing basic package\n",
    "import laspy, PySaga, gdal # geo package\n",
    "#import cv2 # open computer vision package\n",
    "import pandas as pd\n",
    "import geopandas as gpd\n",
    "import numba\n",
    "# csf = CSF.CSF()\n",
    "from scipy.stats import entropy\n",
    "from matplotlib import pyplot as plt\n",
    "from TronGisPy import GisIO, CRS, Normalizer, Interpolation\n",
    "from shapely.geometry import Point, Polygon, MultiPolygon\n",
    "from sklearn.metrics.pairwise import euclidean_distances, pairwise_distances, pairwise_distances_argmin\n",
    "from util.las import *"
   ]
  },
  {
   "cell_type": "code",
   "execution_count": 2,
   "metadata": {},
   "outputs": [
    {
     "name": "stdout",
     "output_type": "stream",
     "text": [
      "Wall time: 4.17 s\n"
     ]
    }
   ],
   "source": [
    "%%time\n",
    "\n",
    "las_fp = os.path.join(\"data\", \"123.las\")\n",
    "X_ref_fp = \"./tmp/X_ref.tif\"\n",
    "las_classified_path = \"./tmp/classified_ground.las\"\n",
    "street_las = CloudPoint(las_fp)"
   ]
  },
  {
   "cell_type": "code",
   "execution_count": 3,
   "metadata": {},
   "outputs": [
    {
     "name": "stdout",
     "output_type": "stream",
     "text": [
      "(3053, 3256, 1)\n"
     ]
    }
   ],
   "source": [
    "resolution = 0.05\n",
    "pad = resolution / 2\n",
    "x_min, x_max, y_min, y_max = street_las.get_las_boundary(return_poly=False)\n",
    "x_min, x_max = x_min - pad, x_max + pad\n",
    "y_min, y_max = y_min - pad, y_max + pad\n",
    "geo_transform = (x_min, resolution, 0, y_max, 0, -resolution)\n",
    "wkt_3826 = CRS.get_wkt_from_epsg(3826)\n",
    "cols = int((x_max - x_min) // resolution) + 1\n",
    "rows = int((y_max - y_min) // resolution) + 1\n",
    "X = np.random.rand(rows, cols)\n",
    "GisIO.write_output_tif(X, X_ref_fp, geo_transform=geo_transform, projection=wkt_3826, gdaldtype=gdal.GDT_Float32)\n",
    "X_ref = GisIO.get_nparray(X_ref_fp)\n",
    "print(X_ref.shape)"
   ]
  },
  {
   "cell_type": "code",
   "execution_count": 4,
   "metadata": {},
   "outputs": [
    {
     "name": "stdout",
     "output_type": "stream",
     "text": [
      "Wall time: 30.1 s\n"
     ]
    },
    {
     "data": {
      "text/plain": [
       "array([[2409,  769],\n",
       "       [2480,  771],\n",
       "       [2490,  785],\n",
       "       ...,\n",
       "       [1408, 2321],\n",
       "       [1487, 2468],\n",
       "       [1383, 2480]], dtype=int64)"
      ]
     },
     "execution_count": 4,
     "metadata": {},
     "output_type": "execute_result"
    }
   ],
   "source": [
    "%%time\n",
    "\n",
    "\n",
    "las_data = np.array([street_las.data[i] for i in [\"x\", \"y\"]]).T\n",
    "X_ref = GisIO.get_nparray(X_ref_fp)\n",
    "cols, rows, bands, _, _, _, _ = GisIO.get_geo_info(X_ref_fp)\n",
    "X_ref_extent = GisIO.get_extent(X_ref_fp, False)\n",
    "\n",
    "las_npidxs = CRS.numba_transfer_group_coord_to_npidx(las_data, geo_transform) # Wall time: 35 s\n",
    "las_npidxs"
   ]
  },
  {
   "cell_type": "code",
   "execution_count": 5,
   "metadata": {},
   "outputs": [
    {
     "name": "stdout",
     "output_type": "stream",
     "text": [
      "Wall time: 45.6 s\n"
     ]
    }
   ],
   "source": [
    "%%time\n",
    "csf = CSF.CSF()\n",
    "csf.params.bSloopSmooth = False\n",
    "csf.params.cloth_resolution = 0.5\n",
    "csf.setPointCloud(np.array([street_las.data[i] for i in [\"x\", \"y\", \"z\"]]).T)\n",
    "ground = CSF.VecInt()  # a list to indicate the index of ground points after calculation\n",
    "non_ground = CSF.VecInt() # a list to indicate the index of non-ground points after calculation\n",
    "csf.do_filtering(ground, non_ground) # do actual filtering.\n",
    "scale = street_las.header[1]\n",
    "\n"
   ]
  },
  {
   "cell_type": "code",
   "execution_count": 6,
   "metadata": {},
   "outputs": [
    {
     "name": "stdout",
     "output_type": "stream",
     "text": [
      "Wall time: 26.1 s\n"
     ]
    }
   ],
   "source": [
    "%%time\n",
    "def write_las_data(las_data, dst_las_fp, scale=[1.0,1.0,1.0]):\n",
    "    x, y, z, num_returns, return_num, intensity, classification, red, green, blue = las_data.T\n",
    "    offset = [np.floor(np.min(x)), np.floor(np.min(y)), np.floor(np.min(z))]\n",
    "\n",
    "    outFile = laspy.file.File(dst_las_fp, mode=\"w\", header=laspy.header.Header(point_format=2)) # LAS point format 2 supports color\n",
    "    outFile.header.offset, outFile.header.scale = offset, scale\n",
    "    \n",
    "    outFile.x, outFile.y, outFile.z =x, y, z\n",
    "    outFile.num_returns, outFile.return_num = num_returns.astype(np.int), return_num.astype(np.int)\n",
    "    outFile.intensity = intensity\n",
    "    outFile.classification = classification.astype(np.int)\n",
    "    outFile.red, outFile.green, outFile.blue = red, green, blue\n",
    "    outFile.close()\n",
    "\n",
    "ground_las_data = np.array([street_las.data[i] for i in street_las.using_attr]).T\n",
    "ground_las_data = ground_las_data[ground]\n",
    "# las_data[ground] = 2 # groud point\n",
    "# las_data[non_ground] = 1 # unassigned\n",
    "write_las_data(ground_las_data, las_classified_path, scale)"
   ]
  },
  {
   "cell_type": "code",
   "execution_count": 7,
   "metadata": {},
   "outputs": [
    {
     "name": "stdout",
     "output_type": "stream",
     "text": [
      "Wall time: 35.1 s\n"
     ]
    },
    {
     "data": {
      "text/plain": [
       "(array([[2409,  769],\n",
       "        [2480,  771],\n",
       "        [2490,  785],\n",
       "        ...,\n",
       "        [1408, 2321],\n",
       "        [1487, 2468],\n",
       "        [1383, 2480]], dtype=int64),\n",
       " (23628925, 2))"
      ]
     },
     "execution_count": 7,
     "metadata": {},
     "output_type": "execute_result"
    }
   ],
   "source": [
    "%%time\n",
    "\n",
    "\n",
    "las_data = np.array([street_las.data[i] for i in street_las.using_attr]).T\n",
    "X_ref = GisIO.get_nparray(X_ref_fp)\n",
    "cols, rows, bands, _, _, _, _ = GisIO.get_geo_info(X_ref_fp)\n",
    "X_ref_extent = GisIO.get_extent(X_ref_fp, False)\n",
    "\n",
    "las_npidxs = CRS.numba_transfer_group_coord_to_npidx(las_data, geo_transform) # Wall time: 35 s\n",
    "las_npidxs, las_npidxs.shape"
   ]
  },
  {
   "cell_type": "code",
   "execution_count": null,
   "metadata": {},
   "outputs": [],
   "source": [
    "%%time\n",
    "\n",
    "\n",
    "las_data = np.array([cli.data[i] for i in street_las.using_attr]).T\n",
    "X_ref = GisIO.get_nparray(X_ref_fp)\n",
    "cols, rows, bands, _, _, _, _ = GisIO.get_geo_info(X_ref_fp)\n",
    "X_ref_extent = GisIO.get_extent(X_ref_fp, False)\n",
    "\n",
    "las_npidxs = CRS.numba_transfer_group_coord_to_npidx(las_data, geo_transform) # Wall time: 35 s\n",
    "las_npidxs, las_npidxs.shape"
   ]
  }
 ],
 "metadata": {
  "kernelspec": {
   "display_name": "Python 3",
   "language": "python",
   "name": "python3"
  },
  "language_info": {
   "codemirror_mode": {
    "name": "ipython",
    "version": 3
   },
   "file_extension": ".py",
   "mimetype": "text/x-python",
   "name": "python",
   "nbconvert_exporter": "python",
   "pygments_lexer": "ipython3",
   "version": "3.6.10"
  }
 },
 "nbformat": 4,
 "nbformat_minor": 4
}
